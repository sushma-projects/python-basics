{
 "cells": [
  {
   "cell_type": "code",
   "execution_count": 21,
   "metadata": {},
   "outputs": [
    {
     "name": "stdout",
     "output_type": "stream",
     "text": [
      "23 45 67\n"
     ]
    },
    {
     "data": {
      "text/plain": [
       "[3, 5, 7]"
      ]
     },
     "execution_count": 21,
     "metadata": {},
     "output_type": "execute_result"
    }
   ],
   "source": [
    "# Read the input from keyboard\n",
    "# i/p  \"23 44 67 92 99\"\n",
    "# o/p : [3,4,7,2,9]\n",
    "# Try the problem in two ways\n",
    "    # to update the same list \n",
    "    # to create a new list\n",
    "    \n",
    "l = []\n",
    "for i in input().split():\n",
    "    l.append(int(i[-1]))\n",
    "l"
   ]
  },
  {
   "cell_type": "code",
   "execution_count": 28,
   "metadata": {},
   "outputs": [
    {
     "name": "stdout",
     "output_type": "stream",
     "text": [
      "45 69\n"
     ]
    },
    {
     "data": {
      "text/plain": [
       "[5, 9]"
      ]
     },
     "execution_count": 28,
     "metadata": {},
     "output_type": "execute_result"
    }
   ],
   "source": [
    "#n= input().split()\n",
    "n = [int(i[-1]) for i in input().split()]\n",
    "n"
   ]
  },
  {
   "cell_type": "code",
   "execution_count": 31,
   "metadata": {},
   "outputs": [
    {
     "name": "stdout",
     "output_type": "stream",
     "text": [
      "10 20 30 60 99\n",
      "7 6 9 11 9\n",
      "[3, 2, 3, 5, 0]\n",
      "[1, 3, 3, 5, 11]\n"
     ]
    }
   ],
   "source": [
    "# Read the inputs from keyboard\n",
    "# i/p1: \"10 20 30 60 99\"\n",
    "# i/p2: \"7 6 9 11 9\"\n",
    "# o/p1: [3,2,3,5,0]\n",
    "# o/p2 : [1,3,3,5,11]\n",
    "n1 = input().split()\n",
    "n2 = input().split()\n",
    "o1 = []\n",
    "o2 = []\n",
    "for i in range(5):\n",
    "    o1.append(int(n1[i])%int(n2[i]))\n",
    "    o2.append(int(n1[i])//int(n2[i]))\n",
    "print(o1)\n",
    "print(o2)"
   ]
  },
  {
   "cell_type": "code",
   "execution_count": null,
   "metadata": {},
   "outputs": [],
   "source": [
    "#out1 = [int(n1[i])%int(n2[i])  for i in ]"
   ]
  },
  {
   "cell_type": "code",
   "execution_count": 37,
   "metadata": {},
   "outputs": [
    {
     "name": "stdout",
     "output_type": "stream",
     "text": [
      "10 20 20 \n",
      "15 25 25\n",
      "25 265 25\n"
     ]
    },
    {
     "data": {
      "text/plain": [
       "[['10', '20', '20'], ['15', '25', '25'], ['25', '265', '25']]"
      ]
     },
     "execution_count": 37,
     "metadata": {},
     "output_type": "execute_result"
    }
   ],
   "source": [
    "#Read the inputs from keyboard\n",
    "# i/p1: \"10 20 30 60 99\"\n",
    "# i/p2: \"7 6 9 11 9\"\n",
    "# i/p3: \"56 78 89 9 52\"\n",
    "#o/p [[10,20,30,60,99],[7,6,9,11,9],[56,78,89,9,52]]\n",
    "n1 = input().split()\n",
    "n2 = input().split()\n",
    "n3 = input().split()\n",
    "l = []\n",
    "l.append(n1)\n",
    "l.append(n2)\n",
    "l.append(n3)\n",
    "l"
   ]
  },
  {
   "cell_type": "code",
   "execution_count": 89,
   "metadata": {},
   "outputs": [
    {
     "name": "stdout",
     "output_type": "stream",
     "text": [
      "5\n",
      "ravi\n",
      "rajesh\n",
      "rakesh\n",
      "uma\n",
      "sushma\n",
      "['uma']\n",
      "['rajesh', 'rakesh']\n"
     ]
    }
   ],
   "source": [
    "# Get the input from keyboard Hoiw many names you want to read\n",
    "# Read the names from keybord one by one. Store them in a list.\n",
    "# update the same list with names as lowercase letters\n",
    "# Get the names in a new list as output which starts with vowels\n",
    "# Get the names in a new list which ends with consonants\n",
    "# Get the names in a new list which will starts with vowels and ends with consonants\n",
    "# Get the names in new list which will start with consonats and ends with vowel\n",
    "# Get the names in a list which have length in range(5,10). Both 5 and 10 are inclusive\n",
    "n = int(input())\n",
    "l = []\n",
    "l2 = []\n",
    "l3 = []\n",
    "v =\"aeiou\"\n",
    "for i in range(n):\n",
    "    l.append(input().lower())\n",
    "for i in l:\n",
    "    if i[0] in v:\n",
    "        l2.append(i)\n",
    "    if i[-1] not in v:\n",
    "        l3.append(i)\n",
    "\n",
    "print(l2)\n",
    "print(l3)"
   ]
  },
  {
   "cell_type": "code",
   "execution_count": 102,
   "metadata": {},
   "outputs": [
    {
     "data": {
      "text/plain": [
       "['rtyi', 'ravi']"
      ]
     },
     "execution_count": 102,
     "metadata": {},
     "output_type": "execute_result"
    }
   ],
   "source": [
    "l1 = ['arthy','amrutha','rtyi','ravi']\n",
    "v = \"aeiou\"\n",
    "l4 = []\n",
    "for i in l1: \n",
    "    if i[0] not in v:\n",
    "        if i[-1] in v:\n",
    "            l4.append(i)\n",
    "l4"
   ]
  },
  {
   "cell_type": "code",
   "execution_count": 104,
   "metadata": {},
   "outputs": [
    {
     "data": {
      "text/plain": [
       "['rtyi', 'ravi']"
      ]
     },
     "execution_count": 104,
     "metadata": {},
     "output_type": "execute_result"
    }
   ],
   "source": [
    "list4 = [i for i in l1 if i[0] not in v if i[-1] in v]\n",
    "list4"
   ]
  },
  {
   "cell_type": "code",
   "execution_count": 105,
   "metadata": {},
   "outputs": [
    {
     "name": "stdout",
     "output_type": "stream",
     "text": [
      "4\n",
      "6\n",
      "6\n",
      "6\n"
     ]
    }
   ],
   "source": [
    "l = ['ravi','sushma','rakesh','rajesh']\n",
    "for i in l:\n",
    "    print(len(i))"
   ]
  },
  {
   "cell_type": "code",
   "execution_count": 98,
   "metadata": {},
   "outputs": [
    {
     "name": "stdout",
     "output_type": "stream",
     "text": [
      "['sushma', 'rakesh', 'rajesh']\n"
     ]
    }
   ],
   "source": [
    "length = []\n",
    "for i in l:\n",
    "    if len(i)>=5 and len(i)<=10:\n",
    "        length.append(i)\n",
    "print(length)"
   ]
  },
  {
   "cell_type": "code",
   "execution_count": 100,
   "metadata": {},
   "outputs": [
    {
     "data": {
      "text/plain": [
       "['sushma', 'rakesh', 'rajesh']"
      ]
     },
     "execution_count": 100,
     "metadata": {},
     "output_type": "execute_result"
    }
   ],
   "source": [
    "length = [i for i in l if len(i)>=5 and len(i)<=10]\n",
    "length"
   ]
  },
  {
   "cell_type": "code",
   "execution_count": 16,
   "metadata": {},
   "outputs": [
    {
     "name": "stdout",
     "output_type": "stream",
     "text": [
      "dfgh@dfghj\n",
      "dfghj@dfghjk\n",
      "sdfghj@ghjk\n",
      "done\n"
     ]
    }
   ],
   "source": [
    "# Read the emails of a string from keyboard until the user enters 'done'.\n",
    "# From the mails get the domin names of the mails in list\n",
    "# example \"ml.ai@gmail.com\" , domain is \"gmail.com\" here\n",
    "l5 = []\n",
    "while True:\n",
    "    n = input()\n",
    "    if n=='done':\n",
    "        break\n",
    "    s=n.index(\"@\")\n",
    "    l5.append(n[s+1:])\n"
   ]
  },
  {
   "cell_type": "code",
   "execution_count": 17,
   "metadata": {},
   "outputs": [
    {
     "data": {
      "text/plain": [
       "['dfghj', 'dfghjk', 'ghjk']"
      ]
     },
     "execution_count": 17,
     "metadata": {},
     "output_type": "execute_result"
    }
   ],
   "source": [
    "l5"
   ]
  },
  {
   "cell_type": "code",
   "execution_count": 19,
   "metadata": {},
   "outputs": [
    {
     "name": "stdout",
     "output_type": "stream",
     "text": [
      "3\n",
      "raju 213 90 python\n",
      "ravi 304 80 c\n",
      "tina 506 78 c++\n"
     ]
    }
   ],
   "source": [
    "# read the number of students from user\n",
    "# Read the details of students into a list. Each sublist contains below details\n",
    "    # studentName,RollNumber,Marks,Language in a single line\n",
    "    # example \"raj,416,56,python\"\n",
    "# Create a list in which \n",
    "    # each sublist conatains three elements\n",
    "        # First element is a tuple contains name and roll number\n",
    "        # second element is marks\n",
    "        # third element is language \n",
    "# From the list get the  different languages avaialble in the data\n",
    "n = int(input())\n",
    "l_students = []\n",
    "for i in range(n):\n",
    "    l_students.append(input().split())"
   ]
  },
  {
   "cell_type": "code",
   "execution_count": 20,
   "metadata": {},
   "outputs": [
    {
     "data": {
      "text/plain": [
       "[['raju', '213', '90', 'python'],\n",
       " ['ravi', '304', '80', 'c'],\n",
       " ['tina', '506', '78', 'c++']]"
      ]
     },
     "execution_count": 20,
     "metadata": {},
     "output_type": "execute_result"
    }
   ],
   "source": [
    "l_students"
   ]
  },
  {
   "cell_type": "code",
   "execution_count": 21,
   "metadata": {},
   "outputs": [
    {
     "name": "stdout",
     "output_type": "stream",
     "text": [
      "['raju', '213', '90']\n",
      "['ravi', '304', '80']\n",
      "['tina', '506', '78']\n"
     ]
    }
   ],
   "source": [
    "for i in l_students:\n",
    "    print(i[0:3])"
   ]
  },
  {
   "cell_type": "code",
   "execution_count": 36,
   "metadata": {},
   "outputs": [],
   "source": [
    "new_list = [[tuple(i[0:2]),i[2],i[3]] for i in l_students]"
   ]
  },
  {
   "cell_type": "code",
   "execution_count": 37,
   "metadata": {},
   "outputs": [],
   "source": [
    "# read two lists from user. Two list conatins the names of students\n",
    "# Get the names which are there in both lists\n",
    "# Get the names which are there in alteast one list\n",
    "# Get the names which are there in list1 not there in list2\n",
    "# Get the names which are there in list2 not there in list1"
   ]
  },
  {
   "cell_type": "code",
   "execution_count": 38,
   "metadata": {},
   "outputs": [
    {
     "data": {
      "text/plain": [
       "[[('raju', '213'), '90', 'python'],\n",
       " [('ravi', '304'), '80', 'c'],\n",
       " [('tina', '506'), '78', 'c++']]"
      ]
     },
     "execution_count": 38,
     "metadata": {},
     "output_type": "execute_result"
    }
   ],
   "source": [
    "new_list"
   ]
  },
  {
   "cell_type": "code",
   "execution_count": 46,
   "metadata": {},
   "outputs": [
    {
     "name": "stdout",
     "output_type": "stream",
     "text": [
      "arun ravi rajesh ramu\n",
      "ravi kiran arun ravindra\n"
     ]
    }
   ],
   "source": [
    "l1 = input().split()\n",
    "l2 = input().split()\n",
    "final_list = []\n",
    "for i in l1:\n",
    "    #print(i)\n",
    "    for j in l2:\n",
    "        #print(j)\n",
    "        if i==j:\n",
    "            final_list.append(i)"
   ]
  },
  {
   "cell_type": "code",
   "execution_count": 47,
   "metadata": {},
   "outputs": [
    {
     "data": {
      "text/plain": [
       "['arun', 'ravi']"
      ]
     },
     "execution_count": 47,
     "metadata": {},
     "output_type": "execute_result"
    }
   ],
   "source": [
    "final_list"
   ]
  },
  {
   "cell_type": "code",
   "execution_count": 14,
   "metadata": {},
   "outputs": [
    {
     "name": "stdout",
     "output_type": "stream",
     "text": [
      "1 X 1 = 1\t2 X 1 = 2\t3 X 1 = 3\t\n",
      "1 X 2 = 2\t2 X 2 = 4\t3 X 2 = 6\t\n",
      "1 X 3 = 3\t2 X 3 = 6\t3 X 3 = 9\t\n",
      "1 X 4 = 4\t2 X 4 = 8\t3 X 4 = 12\t\n",
      "1 X 5 = 5\t2 X 5 = 10\t3 X 5 = 15\t\n",
      "1 X 6 = 6\t2 X 6 = 12\t3 X 6 = 18\t\n",
      "1 X 7 = 7\t2 X 7 = 14\t3 X 7 = 21\t\n",
      "1 X 8 = 8\t2 X 8 = 16\t3 X 8 = 24\t\n",
      "1 X 9 = 9\t2 X 9 = 18\t3 X 9 = 27\t\n",
      "1 X 10 = 10\t2 X 10 = 20\t3 X 10 = 30\t\n"
     ]
    }
   ],
   "source": [
    "# Craete multipliaction table of a number\n",
    "# Read the number from user\n",
    "# Example :3\n",
    "\n",
    "# Later modify the code so that you can read the lower bound and upperbound for the table. \n",
    "# for the above case lowerbound is 1 and upper bound is 10\n",
    "for j in range(1,11):\n",
    "    for i in range(1,4):\n",
    "        print(i,\"X\",j,\"=\",i*j,end=\"\\t\")\n",
    "    print('')"
   ]
  },
  {
   "cell_type": "code",
   "execution_count": null,
   "metadata": {},
   "outputs": [],
   "source": [
    "# take a list of numbers or names with repetetive values\n",
    "# Get a list as output\n",
    "    # each sublist has the number and how many times it is there in the list\n",
    "# The ouput shoud be in sorted order based on count.\n",
    "# If the count is equal different numbers. Sort them based on numbers\n",
    "# Example : [23,45,23,77,67,45,45,2,3,3,2,3]\n",
    "# output :[[3,3],[45,3],[2,2],[23,2],[67,1],[77,1]]"
   ]
  },
  {
   "cell_type": "code",
   "execution_count": 99,
   "metadata": {},
   "outputs": [
    {
     "name": "stdout",
     "output_type": "stream",
     "text": [
      "None\n"
     ]
    }
   ],
   "source": [
    "num = [23,45,23,77,67,45,45,2,3,3,2,3]\n",
    "#count = 0\n",
    "new_list = []\n",
    "for i in num:\n",
    "    i = num.count(i)>1\n",
    "print(new_list.append(x))            "
   ]
  },
  {
   "cell_type": "code",
   "execution_count": 77,
   "metadata": {},
   "outputs": [
    {
     "data": {
      "text/plain": [
       "{2, 3, 23, 45}"
      ]
     },
     "execution_count": 77,
     "metadata": {},
     "output_type": "execute_result"
    }
   ],
   "source": [
    "set([x for x in num if num.count(x) > 1])"
   ]
  },
  {
   "cell_type": "code",
   "execution_count": null,
   "metadata": {},
   "outputs": [],
   "source": []
  }
 ],
 "metadata": {
  "kernelspec": {
   "display_name": "Python 3",
   "language": "python",
   "name": "python3"
  },
  "language_info": {
   "codemirror_mode": {
    "name": "ipython",
    "version": 3
   },
   "file_extension": ".py",
   "mimetype": "text/x-python",
   "name": "python",
   "nbconvert_exporter": "python",
   "pygments_lexer": "ipython3",
   "version": "3.6.5"
  }
 },
 "nbformat": 4,
 "nbformat_minor": 2
}

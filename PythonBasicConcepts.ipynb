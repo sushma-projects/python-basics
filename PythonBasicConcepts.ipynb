{
 "cells": [
  {
   "cell_type": "markdown",
   "metadata": {},
   "source": [
    "- Basics\n",
    "- Datatypes and Conversions\n",
    "- Control Statements\n",
    "    - Conditional Statements\n",
    "    - Looping Statements\n",
    "- Functional Programming\n",
    "- List, Tuple,Dictionary\n",
    "- External Packages\n",
    "    - Math\n",
    "- Regular Expressions\n",
    "- File Handling\n",
    "    - Reading the file data\n",
    "    - Writing the file data\n",
    "    - Perform the operations on file\n",
    "- OOPS\n",
    "    - Class\n",
    "    - Objects\n",
    "    - Methods\n",
    "    - Constructors\n",
    "    - Inheritance\n",
    "    - Polymorphism\n",
    "- Exceptional Handling\n",
    "- List Comprehences, Lambda Expressions"
   ]
  },
  {
   "cell_type": "markdown",
   "metadata": {},
   "source": [
    "### Functional Programming\n",
    "- Reduce the complexity\n",
    "- Reusable block\n",
    "- Divides the lengthy program into sub blocks so that it is easy for read."
   ]
  },
  {
   "cell_type": "code",
   "execution_count": 1,
   "metadata": {},
   "outputs": [
    {
     "data": {
      "text/plain": [
       "123"
      ]
     },
     "execution_count": 1,
     "metadata": {},
     "output_type": "execute_result"
    }
   ],
   "source": [
    "def isTest(x):\n",
    "    return x\n",
    "a = 123\n",
    "isTest(a)"
   ]
  },
  {
   "cell_type": "code",
   "execution_count": 4,
   "metadata": {},
   "outputs": [
    {
     "name": "stdout",
     "output_type": "stream",
     "text": [
      "[1, 2, 3] <class 'list'>\n"
     ]
    }
   ],
   "source": [
    "def isTest(x):\n",
    "    return x\n",
    "a = [1,2,3]\n",
    "\n",
    "print(isTest(a),type(a))"
   ]
  },
  {
   "cell_type": "code",
   "execution_count": 5,
   "metadata": {},
   "outputs": [
    {
     "data": {
      "text/plain": [
       "list"
      ]
     },
     "execution_count": 5,
     "metadata": {},
     "output_type": "execute_result"
    }
   ],
   "source": [
    "def isTest(x):\n",
    "    return type(x)\n",
    "a = [1,2,3]\n",
    "isTest(a)"
   ]
  },
  {
   "cell_type": "markdown",
   "metadata": {},
   "source": [
    "### Coding Standards\n",
    "- Variable Name: num, num_test, numTest\n",
    "\n",
    "- Function Name: func(), fun_test(), funTest()\n",
    "\n",
    "- Constructor Name: __int__\n",
    "\n",
    "- Class Name: Demo(), DemoAbc()\n",
    "\n",
    "- import: import packagename\n",
    "\n",
    "- import: from packagename import function1,function2...\n"
   ]
  },
  {
   "cell_type": "markdown",
   "metadata": {},
   "source": [
    "#### External Packages: import statements re, math pandas mathlib...\n",
    "#### Regular Expression Creating\n",
    "- Checking for Numbers\n",
    "- Checking for Lower case and Upper case\n",
    "- Checking for Special Characters"
   ]
  },
  {
   "cell_type": "code",
   "execution_count": 11,
   "metadata": {},
   "outputs": [
    {
     "name": "stdout",
     "output_type": "stream",
     "text": [
      "True\n",
      "False\n"
     ]
    }
   ],
   "source": [
    "import re\n",
    "def digit_match(n):\n",
    "    pattern = '^[0-9]{2}$'\n",
    "    n = str(n)\n",
    "    if re.match(pattern,n):\n",
    "        return True\n",
    "    return False\n",
    "print(digit_match(12))\n",
    "print(digit_match(123))"
   ]
  },
  {
   "cell_type": "code",
   "execution_count": 15,
   "metadata": {},
   "outputs": [
    {
     "name": "stdout",
     "output_type": "stream",
     "text": [
      "True\n",
      "False\n"
     ]
    }
   ],
   "source": [
    "def upperLower_case(a):\n",
    "    pattern = '^[A-Z][a-z A-Z]{3,9}$'\n",
    "    if re.match(pattern,a):\n",
    "        return True\n",
    "    return False\n",
    "print(upperLower_case('SushmaRavi'))\n",
    "print(upperLower_case('sushmaRavi'))"
   ]
  },
  {
   "cell_type": "code",
   "execution_count": 17,
   "metadata": {},
   "outputs": [
    {
     "name": "stdout",
     "output_type": "stream",
     "text": [
      "True\n",
      "False\n"
     ]
    }
   ],
   "source": [
    "# Validation for DHS00120\n",
    "def validate(a):\n",
    "    pattern = '^[D][H][S][0][0][1-9][2-9][0-9]$'\n",
    "    if re.match(pattern,a):\n",
    "        return True\n",
    "    return False\n",
    "print(validate('DHS00120'))\n",
    "print(validate('DHS01123'))"
   ]
  },
  {
   "cell_type": "code",
   "execution_count": 56,
   "metadata": {},
   "outputs": [],
   "source": [
    "# Indian Mobile Number\n",
    "def validate_mobilenum(n):\n",
    "    n = str(n)\n",
    "    pattern = '^[6][0-9]{9}|[0][9][0-9]{9}|[+][9][1][-][9][0-9]{9}$'\n",
    "    if re.match(pattern,n):\n",
    "        return 'valid number'\n",
    "    return 'not valid number'"
   ]
  },
  {
   "cell_type": "code",
   "execution_count": 57,
   "metadata": {},
   "outputs": [
    {
     "name": "stdout",
     "output_type": "stream",
     "text": [
      "valid number\n",
      "not valid number\n"
     ]
    }
   ],
   "source": [
    "print(validate_mobilenum(6789234556))\n",
    "#print(validate_mobilenum(09789234556))\n",
    "print(validate_mobilenum(+91-9789234556))"
   ]
  },
  {
   "cell_type": "code",
   "execution_count": 60,
   "metadata": {},
   "outputs": [
    {
     "name": "stdout",
     "output_type": "stream",
     "text": [
      "valid name\n"
     ]
    }
   ],
   "source": [
    "# Username validate\n",
    "# Should need to contains one Upper case character\n",
    "# 6 lower case, 1 digit\n",
    "\n",
    "def validate_name(username):\n",
    "    pattern = '^[A-Z][a-z]{6}[0-9]{1}$'\n",
    "    if re.match(pattern,username):\n",
    "        return 'valid name'\n",
    "    return 'not valid name'\n",
    "print(validate_name('Sushmam9'))"
   ]
  },
  {
   "cell_type": "code",
   "execution_count": null,
   "metadata": {},
   "outputs": [],
   "source": [
    "^(?=.)$"
   ]
  }
 ],
 "metadata": {
  "kernelspec": {
   "display_name": "Python 3",
   "language": "python",
   "name": "python3"
  },
  "language_info": {
   "codemirror_mode": {
    "name": "ipython",
    "version": 3
   },
   "file_extension": ".py",
   "mimetype": "text/x-python",
   "name": "python",
   "nbconvert_exporter": "python",
   "pygments_lexer": "ipython3",
   "version": "3.6.5"
  }
 },
 "nbformat": 4,
 "nbformat_minor": 2
}

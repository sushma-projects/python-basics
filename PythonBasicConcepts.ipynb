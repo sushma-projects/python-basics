{
 "cells": [
  {
   "cell_type": "markdown",
   "metadata": {},
   "source": [
    "- Basics\n",
    "- Datatypes and Conversions\n",
    "- Control Statements\n",
    "    - Conditional Statements\n",
    "    - Looping Statements\n",
    "- Functional Programming\n",
    "- List, Tuple,Dictionary\n",
    "- External Packages\n",
    "    - Math\n",
    "- Regular Expressions\n",
    "- File Handling\n",
    "    - Reading the file data\n",
    "    - Writing the file data\n",
    "    - Perform the operations on file\n",
    "- OOPS\n",
    "    - Class\n",
    "    - Objects\n",
    "    - Methods\n",
    "    - Constructors\n",
    "    - Inheritance\n",
    "    - Polymorphism\n",
    "- Exceptional Handling\n",
    "- List Comprehences, Lambda Expressions"
   ]
  },
  {
   "cell_type": "markdown",
   "metadata": {},
   "source": [
    "### Functional Programming\n",
    "- Reduce the complexity\n",
    "- Reusable block\n",
    "- Divides the lengthy program into sub blocks so that it is easy for read."
   ]
  },
  {
   "cell_type": "code",
   "execution_count": 1,
   "metadata": {},
   "outputs": [
    {
     "data": {
      "text/plain": [
       "123"
      ]
     },
     "execution_count": 1,
     "metadata": {},
     "output_type": "execute_result"
    }
   ],
   "source": [
    "def isTest(x):\n",
    "    return x\n",
    "a = 123\n",
    "isTest(a)"
   ]
  },
  {
   "cell_type": "code",
   "execution_count": 4,
   "metadata": {},
   "outputs": [
    {
     "name": "stdout",
     "output_type": "stream",
     "text": [
      "[1, 2, 3] <class 'list'>\n"
     ]
    }
   ],
   "source": [
    "def isTest(x):\n",
    "    return x\n",
    "a = [1,2,3]\n",
    "\n",
    "print(isTest(a),type(a))"
   ]
  },
  {
   "cell_type": "code",
   "execution_count": 5,
   "metadata": {},
   "outputs": [
    {
     "data": {
      "text/plain": [
       "list"
      ]
     },
     "execution_count": 5,
     "metadata": {},
     "output_type": "execute_result"
    }
   ],
   "source": [
    "def isTest(x):\n",
    "    return type(x)\n",
    "a = [1,2,3]\n",
    "isTest(a)"
   ]
  },
  {
   "cell_type": "markdown",
   "metadata": {},
   "source": [
    "### Coding Standards\n",
    "- Variable Name: num, num_test, numTest\n",
    "\n",
    "- Function Name: func(), fun_test(), funTest()\n",
    "\n",
    "- Constructor Name: __int__\n",
    "\n",
    "- Class Name: Demo(), DemoAbc()\n",
    "\n",
    "- import: import packagename\n",
    "\n",
    "- import: from packagename import function1,function2...\n"
   ]
  },
  {
   "cell_type": "markdown",
   "metadata": {},
   "source": [
    "#### External Packages: import statements re, math pandas mathlib...\n",
    "#### Regular Expression Creating\n",
    "- Checking for Numbers\n",
    "- Checking for Lower case and Upper case\n",
    "- Checking for Special Characters"
   ]
  },
  {
   "cell_type": "code",
   "execution_count": 11,
   "metadata": {},
   "outputs": [
    {
     "name": "stdout",
     "output_type": "stream",
     "text": [
      "True\n",
      "False\n"
     ]
    }
   ],
   "source": [
    "import re\n",
    "def digit_match(n):\n",
    "    pattern = '^[0-9]{2}$'\n",
    "    n = str(n)\n",
    "    if re.match(pattern,n):\n",
    "        return True\n",
    "    return False\n",
    "print(digit_match(12))\n",
    "print(digit_match(123))"
   ]
  },
  {
   "cell_type": "code",
   "execution_count": 15,
   "metadata": {},
   "outputs": [
    {
     "name": "stdout",
     "output_type": "stream",
     "text": [
      "True\n",
      "False\n"
     ]
    }
   ],
   "source": [
    "def upperLower_case(a):\n",
    "    pattern = '^[A-Z][a-z A-Z]{3,9}$'\n",
    "    if re.match(pattern,a):\n",
    "        return True\n",
    "    return False\n",
    "print(upperLower_case('SushmaRavi'))\n",
    "print(upperLower_case('sushmaRavi'))"
   ]
  },
  {
   "cell_type": "code",
   "execution_count": 17,
   "metadata": {},
   "outputs": [
    {
     "name": "stdout",
     "output_type": "stream",
     "text": [
      "True\n",
      "False\n"
     ]
    }
   ],
   "source": [
    "# Validation for DHS00120\n",
    "def validate(a):\n",
    "    pattern = '^[D][H][S][0][0][1-9][2-9][0-9]$'\n",
    "    if re.match(pattern,a):\n",
    "        return True\n",
    "    return False\n",
    "print(validate('DHS00120'))\n",
    "print(validate('DHS01123'))"
   ]
  },
  {
   "cell_type": "code",
   "execution_count": 78,
   "metadata": {},
   "outputs": [],
   "source": [
    "# Indian Mobile Number\n",
    "n = input()\n",
    "def validate_mobilenum(n):\n",
    "    n = str(n)\n",
    "    pattern = '^[6-9]|[0]|[+][9][1][-][6-9]([0-9]{9})$'\n",
    "    if re.match(pattern,n):\n",
    "        return 'valid number'\n",
    "    return 'not valid number'"
   ]
  },
  {
   "cell_type": "code",
   "execution_count": 82,
   "metadata": {},
   "outputs": [
    {
     "name": "stdout",
     "output_type": "stream",
     "text": [
      "valid number\n",
      "valid number\n",
      "not valid number\n"
     ]
    }
   ],
   "source": [
    "print(validate_mobilenum(6789234556))\n",
    "print(validate_mobilenum(9789234556))\n",
    "print(validate_mobilenum(+91-9789234556))"
   ]
  },
  {
   "cell_type": "code",
   "execution_count": null,
   "metadata": {},
   "outputs": [],
   "source": [
    "^[A-Z](?=.*[a-z]{6})(?=.*[])$"
   ]
  },
  {
   "cell_type": "code",
   "execution_count": 60,
   "metadata": {},
   "outputs": [
    {
     "name": "stdout",
     "output_type": "stream",
     "text": [
      "valid name\n"
     ]
    }
   ],
   "source": [
    "# Username validate\n",
    "# Should need to contains one Upper case character\n",
    "# 6 lower case, 1 digit\n",
    "\n",
    "def validate_name(username):\n",
    "    pattern = '^[A-Z][a-z]{6}[0-9]{1}$'\n",
    "    if re.match(pattern,username):\n",
    "        return 'valid name'\n",
    "    return 'not valid name'\n",
    "print(validate_name('Sushmam9'))"
   ]
  },
  {
   "cell_type": "code",
   "execution_count": null,
   "metadata": {},
   "outputs": [],
   "source": [
    "^(?=.)$"
   ]
  },
  {
   "cell_type": "markdown",
   "metadata": {},
   "source": [
    "#### File Management\n",
    "- Create file\n",
    "- Write data to file\n",
    "- Read data from file\n",
    "- Perform the operations on the file"
   ]
  },
  {
   "cell_type": "code",
   "execution_count": 66,
   "metadata": {},
   "outputs": [
    {
     "data": {
      "text/plain": [
       "'Completed'"
      ]
     },
     "execution_count": 66,
     "metadata": {},
     "output_type": "execute_result"
    }
   ],
   "source": [
    "def createFile(filename):\n",
    "    f = open(filename,'w')\n",
    "    for i in range(10):\n",
    "        f.write(\"\\nLine of Data\")\n",
    "    return \"Completed\" \n",
    "createFile('Dsps.txt')"
   ]
  },
  {
   "cell_type": "code",
   "execution_count": 67,
   "metadata": {},
   "outputs": [
    {
     "data": {
      "text/plain": [
       "'C:\\\\Users\\\\Anil Arella\\\\sushma\\\\Data'"
      ]
     },
     "execution_count": 67,
     "metadata": {},
     "output_type": "execute_result"
    }
   ],
   "source": [
    "pwd"
   ]
  },
  {
   "cell_type": "code",
   "execution_count": 63,
   "metadata": {},
   "outputs": [],
   "source": [
    "mkdir Data"
   ]
  },
  {
   "cell_type": "code",
   "execution_count": 64,
   "metadata": {},
   "outputs": [
    {
     "name": "stdout",
     "output_type": "stream",
     "text": [
      "C:\\Users\\Anil Arella\\sushma\\Data\n"
     ]
    }
   ],
   "source": [
    "cd Data/"
   ]
  },
  {
   "cell_type": "code",
   "execution_count": 65,
   "metadata": {},
   "outputs": [
    {
     "data": {
      "text/plain": [
       "'C:\\\\Users\\\\Anil Arella\\\\sushma\\\\Data'"
      ]
     },
     "execution_count": 65,
     "metadata": {},
     "output_type": "execute_result"
    }
   ],
   "source": [
    "pwd"
   ]
  },
  {
   "cell_type": "code",
   "execution_count": 68,
   "metadata": {},
   "outputs": [
    {
     "name": "stdout",
     "output_type": "stream",
     "text": [
      " Volume in drive C has no label.\n",
      " Volume Serial Number is A6BB-AC1C\n",
      "\n",
      " Directory of C:\\Users\\Anil Arella\\sushma\\Data\n",
      "\n",
      "27-02-2020  01:13 PM    <DIR>          .\n",
      "27-02-2020  01:13 PM    <DIR>          ..\n",
      "27-02-2020  01:13 PM               140 Dsps.txt\n",
      "               1 File(s)            140 bytes\n",
      "               2 Dir(s)  150,925,524,992 bytes free\n"
     ]
    }
   ],
   "source": [
    "ls"
   ]
  },
  {
   "cell_type": "markdown",
   "metadata": {},
   "source": [
    "### Strings and string related problems\n",
    "- String: Sequence of characters\n",
    "- Python: Character and String\n",
    "- ord(char) : Represents the output in terms of ASCII number\n",
    "- chr(ord(char) : Represents the output in terms of character\n",
    "-  ASCII Numbers:\n",
    "    - A-Z : 65-90\n",
    "    - a-z : 97-122\n",
    "    - 0-9: 48-57\n",
    "    - space : 32"
   ]
  },
  {
   "cell_type": "code",
   "execution_count": 2,
   "metadata": {},
   "outputs": [
    {
     "name": "stdout",
     "output_type": "stream",
     "text": [
      "APPLication\n",
      "4 Upper case,7 Lower case\n"
     ]
    }
   ],
   "source": [
    "l = []\n",
    "Ucnt = 0\n",
    "Lcnt = 0\n",
    "s = input()\n",
    "for i in range(len(s1)):\n",
    "    #print(s1[i])\n",
    "    if ord(s[i])>=65 and ord(s[i])<=90:\n",
    "        Ucnt += 1\n",
    "    elif ord(s[i])>=97 and ord(s[i])<=122:\n",
    "        Lcnt += 1\n",
    "print(\"{0} Upper case,{1} Lower case\".format(Ucnt,Lcnt))"
   ]
  },
  {
   "cell_type": "code",
   "execution_count": 3,
   "metadata": {},
   "outputs": [
    {
     "name": "stdout",
     "output_type": "stream",
     "text": [
      "APPLIcation\n",
      "5 Upper case,6 Lower case\n"
     ]
    }
   ],
   "source": [
    "Ucnt = 0\n",
    "Lcnt = 0\n",
    "s = input()\n",
    "for i in range(len(s1)):\n",
    "    #print(s1[i])\n",
    "    if s[i].isupper():\n",
    "        Ucnt += 1\n",
    "    elif s[i].islower():\n",
    "        Lcnt += 1\n",
    "print(\"{0} Upper case,{1} Lower case\".format(Ucnt,Lcnt))"
   ]
  },
  {
   "cell_type": "code",
   "execution_count": 2,
   "metadata": {},
   "outputs": [
    {
     "name": "stdout",
     "output_type": "stream",
     "text": [
      "App1ca8ti8on9\n",
      "16\n"
     ]
    }
   ],
   "source": [
    "#App1ca8ti8on9\n",
    "a = input()\n",
    "count = 0\n",
    "for i in range(len(a)):\n",
    "    if a[i].isdigit():\n",
    "        s = ord(a[i])-48\n",
    "       #print(s)\n",
    "        if s%2==0:\n",
    "            count += s\n",
    "print(count)"
   ]
  },
  {
   "cell_type": "code",
   "execution_count": 13,
   "metadata": {},
   "outputs": [
    {
     "data": {
      "text/plain": [
       "49"
      ]
     },
     "execution_count": 13,
     "metadata": {},
     "output_type": "execute_result"
    }
   ],
   "source": [
    "ord('1')"
   ]
  },
  {
   "cell_type": "code",
   "execution_count": 27,
   "metadata": {},
   "outputs": [
    {
     "ename": "IndexError",
     "evalue": "string index out of range",
     "output_type": "error",
     "traceback": [
      "\u001b[1;31m---------------------------------------------------------------------------\u001b[0m",
      "\u001b[1;31mIndexError\u001b[0m                                Traceback (most recent call last)",
      "\u001b[1;32m<ipython-input-27-1447fb0f1c6e>\u001b[0m in \u001b[0;36m<module>\u001b[1;34m()\u001b[0m\n\u001b[0;32m     19\u001b[0m         \u001b[1;32mbreak\u001b[0m\u001b[1;33m\u001b[0m\u001b[0m\n\u001b[0;32m     20\u001b[0m     \u001b[1;32mwhile\u001b[0m \u001b[1;32mTrue\u001b[0m\u001b[1;33m:\u001b[0m\u001b[1;33m\u001b[0m\u001b[0m\n\u001b[1;32m---> 21\u001b[1;33m         \u001b[1;32mif\u001b[0m \u001b[0ma\u001b[0m\u001b[1;33m[\u001b[0m\u001b[0mi\u001b[0m\u001b[1;33m]\u001b[0m\u001b[1;33m.\u001b[0m\u001b[0misdigit\u001b[0m\u001b[1;33m(\u001b[0m\u001b[1;33m)\u001b[0m\u001b[1;33m:\u001b[0m\u001b[1;33m\u001b[0m\u001b[0m\n\u001b[0m\u001b[0;32m     22\u001b[0m             \u001b[0ms\u001b[0m \u001b[1;33m=\u001b[0m \u001b[0mord\u001b[0m\u001b[1;33m(\u001b[0m\u001b[0ma\u001b[0m\u001b[1;33m[\u001b[0m\u001b[0mi\u001b[0m\u001b[1;33m]\u001b[0m\u001b[1;33m)\u001b[0m \u001b[1;33m-\u001b[0m \u001b[1;36m48\u001b[0m\u001b[1;33m\u001b[0m\u001b[0m\n\u001b[0;32m     23\u001b[0m             \u001b[0mnum\u001b[0m \u001b[1;33m=\u001b[0m \u001b[0mnum\u001b[0m\u001b[1;33m*\u001b[0m\u001b[1;36m10\u001b[0m \u001b[1;33m+\u001b[0m \u001b[0ms\u001b[0m\u001b[1;33m\u001b[0m\u001b[0m\n",
      "\u001b[1;31mIndexError\u001b[0m: string index out of range"
     ]
    }
   ],
   "source": [
    "# Mobile123Needs21works45land87user342\n",
    "# 153-2 digit number,465-3 digit number\n",
    "a = 'Mobile123Needs21works45land87user321'\n",
    "#len(a)\n",
    "sum_two = 0\n",
    "sum_three = 0\n",
    "\n",
    "def check(n):\n",
    "    cnt = 0\n",
    "    while n!=0:\n",
    "        cnt += 1\n",
    "        n = n//10\n",
    "    return cnt\n",
    "    \n",
    "\n",
    "for i in range(len(a)):\n",
    "    num = 0\n",
    "    if i == len(a)-2:\n",
    "        break\n",
    "    while True:\n",
    "        if a[i].isdigit():\n",
    "            s = ord(a[i]) - 48\n",
    "            num = num*10 + s\n",
    "            i += 1\n",
    "        else:\n",
    "            break\n",
    "    if check(num)==2:\n",
    "        sum_two += num\n",
    "    elif check(num)==3:\n",
    "        sum_three += num\n",
    "    \n",
    "print('{0},{1}'.format(sum_two,sum_three))\n",
    "    "
   ]
  },
  {
   "cell_type": "code",
   "execution_count": null,
   "metadata": {},
   "outputs": [],
   "source": [
    "# Password Encryption Format - 128 bytes(Manual Encryption)\n",
    "# Not spl chars and digits\n",
    "# Input:  Abcd Aabc aabc\n",
    "#         ABCD AABCDE AABC\n",
    "# Output: !@@!!!@@@@\n",
    "#         !@!!!@@@@!!!!!@@@@@@\n",
    "#         !@!!@@@"
   ]
  },
  {
   "cell_type": "code",
   "execution_count": 60,
   "metadata": {},
   "outputs": [
    {
     "name": "stdout",
     "output_type": "stream",
     "text": [
      "!@@\n",
      "!!!@@@@\n",
      "!!!!"
     ]
    }
   ],
   "source": [
    "n = 'abcdd'\n",
    "n = n.upper()\n",
    "ch = '!'\n",
    "for i in range(len(n)):\n",
    "    if ord(n[i])!=32:\n",
    "        k = ord(n[i])-64\n",
    "        print(ch*k,end=\"\")\n",
    "        if ch == '!':\n",
    "            ch = '@'\n",
    "        else:\n",
    "            print()\n",
    "            ch = '!'"
   ]
  },
  {
   "cell_type": "code",
   "execution_count": 59,
   "metadata": {},
   "outputs": [
    {
     "name": "stdout",
     "output_type": "stream",
     "text": [
      "!@@!!!@@@@\n",
      "!@!!@@@\n",
      "!@!!@@@"
     ]
    }
   ],
   "source": [
    "n = 'Abcd Aabc aabc'\n",
    "n = n.upper()\n",
    "ch = '!'\n",
    "for i in range(len(n)):\n",
    "    if ord(n[i]) != 32:\n",
    "        k = ord(n[i])-64\n",
    "        #for j in range(k):\n",
    "        print(ch*k,end=\"\")\n",
    "        if ch == '!':\n",
    "            ch = '@'\n",
    "        else:\n",
    "            ch = '!'\n",
    "    else:\n",
    "        print()\n",
    "        ch = '!'"
   ]
  },
  {
   "cell_type": "code",
   "execution_count": 30,
   "metadata": {},
   "outputs": [
    {
     "name": "stdout",
     "output_type": "stream",
     "text": [
      "['Abcd', 'Aabc', 'aabc']\n"
     ]
    }
   ],
   "source": [
    "print(l)"
   ]
  },
  {
   "cell_type": "code",
   "execution_count": 31,
   "metadata": {},
   "outputs": [
    {
     "data": {
      "text/plain": [
       "65"
      ]
     },
     "execution_count": 31,
     "metadata": {},
     "output_type": "execute_result"
    }
   ],
   "source": [
    "ord('A')"
   ]
  },
  {
   "cell_type": "code",
   "execution_count": 32,
   "metadata": {},
   "outputs": [
    {
     "data": {
      "text/plain": [
       "32"
      ]
     },
     "execution_count": 32,
     "metadata": {},
     "output_type": "execute_result"
    }
   ],
   "source": [
    "ord(' ')"
   ]
  },
  {
   "cell_type": "code",
   "execution_count": null,
   "metadata": {},
   "outputs": [],
   "source": [
    "# Input: 1A2B3C4D\n",
    "# Output: ABBCCCDDDD"
   ]
  },
  {
   "cell_type": "code",
   "execution_count": 49,
   "metadata": {},
   "outputs": [
    {
     "name": "stdout",
     "output_type": "stream",
     "text": [
      "abbccc"
     ]
    }
   ],
   "source": [
    "n = '1a2b3c'\n",
    "for i in range(0,len(n),2):\n",
    "    print(n[i+1]*int(n[i]),end=\"\")"
   ]
  },
  {
   "cell_type": "code",
   "execution_count": 40,
   "metadata": {},
   "outputs": [
    {
     "data": {
      "text/plain": [
       "50"
      ]
     },
     "execution_count": 40,
     "metadata": {},
     "output_type": "execute_result"
    }
   ],
   "source": [
    "ord('2')"
   ]
  },
  {
   "cell_type": "markdown",
   "metadata": {},
   "source": [
    "### OOPS in Python:\n",
    "- Class\n",
    "    - Data Members: variable list tuple dict\n",
    "    - Member Function: method and constructor\n",
    "    - Class is logical entity it means when create a class it does not access the memory\n",
    "- Object\n",
    "- Inheritance"
   ]
  },
  {
   "cell_type": "markdown",
   "metadata": {},
   "source": [
    "#### Constructor in Python:\n",
    "- Constructor can be written as two underscores at start and end and Name can be written as init\n",
    "- Constructor is spl member in class with invokes(call) automatically when the class object is created\n",
    "- Constructor as spl type of method as well\n",
    "- Methods are always invokes with the external statement with help of class object.\n"
   ]
  },
  {
   "cell_type": "code",
   "execution_count": 61,
   "metadata": {},
   "outputs": [
    {
     "name": "stdout",
     "output_type": "stream",
     "text": [
      "Constructor\n",
      "Method\n"
     ]
    }
   ],
   "source": [
    "class Demo:\n",
    "    def __init__(self):\n",
    "        print('Constructor')\n",
    "        return\n",
    "    def display_numbers(self):\n",
    "        print('Method')\n",
    "        return\n",
    "aa1 = Demo()\n",
    "aa1.display_numbers()"
   ]
  },
  {
   "cell_type": "code",
   "execution_count": 80,
   "metadata": {},
   "outputs": [
    {
     "name": "stdout",
     "output_type": "stream",
     "text": [
      "30\n",
      "40\n",
      "30 40\n"
     ]
    }
   ],
   "source": [
    "class Demo1:\n",
    "    def __init__(self,a,b):\n",
    "        self.a = int(input())\n",
    "        self.b = int(input())\n",
    "        return\n",
    "    def display_s(self):\n",
    "        print(self.a,self.b)\n",
    "        return\n",
    "a2 = Demo1(,20)\n",
    "a2.display_s()"
   ]
  },
  {
   "cell_type": "code",
   "execution_count": 68,
   "metadata": {},
   "outputs": [
    {
     "name": "stdout",
     "output_type": "stream",
     "text": [
      "10 20\n"
     ]
    }
   ],
   "source": [
    "class Demo3:\n",
    "    def __init__(self,a,b):\n",
    "        self.a = a\n",
    "        self.b = b\n",
    "        return\n",
    "    def display_num(self):\n",
    "        print(self.a,self.b)\n",
    "        return\n",
    "a3 = Demo3(10,20)\n",
    "a3.display_num()"
   ]
  },
  {
   "cell_type": "markdown",
   "metadata": {},
   "source": [
    "#### Inheritance in Python\n",
    "- Creating a new class from the existing class can be called as Inheritance\n",
    "- Used to get the properties of one class to another class\n",
    "- By using the inheritance we can increase the code reusability\n",
    "- By using the inheritance we can remove the duplication of code"
   ]
  },
  {
   "cell_type": "code",
   "execution_count": 71,
   "metadata": {},
   "outputs": [
    {
     "name": "stdout",
     "output_type": "stream",
     "text": [
      "updated email\n",
      "login\n"
     ]
    }
   ],
   "source": [
    "class A:\n",
    "    def login(self):\n",
    "        print(\"login\")\n",
    "        return\n",
    "    def register(self):\n",
    "        print(\"register\")\n",
    "        return\n",
    "class B(A):\n",
    "        def update_email(self):\n",
    "            print(\"updated email\")\n",
    "            return \n",
    "a4 = B()\n",
    "a4.update_email()\n",
    "a4.login()"
   ]
  },
  {
   "cell_type": "code",
   "execution_count": 76,
   "metadata": {},
   "outputs": [
    {
     "name": "stdout",
     "output_type": "stream",
     "text": [
      "Class A2\n"
     ]
    }
   ],
   "source": [
    "class A1:\n",
    "    def login(self):\n",
    "        print(\"Class A1\")\n",
    "        return\n",
    "class A2(A1):\n",
    "        def login(self):\n",
    "            print(\"Class A2\")\n",
    "            return\n",
    "obj = A2()\n",
    "obj.login()"
   ]
  },
  {
   "cell_type": "code",
   "execution_count": null,
   "metadata": {},
   "outputs": [],
   "source": []
  }
 ],
 "metadata": {
  "kernelspec": {
   "display_name": "Python 3",
   "language": "python",
   "name": "python3"
  },
  "language_info": {
   "codemirror_mode": {
    "name": "ipython",
    "version": 3
   },
   "file_extension": ".py",
   "mimetype": "text/x-python",
   "name": "python",
   "nbconvert_exporter": "python",
   "pygments_lexer": "ipython3",
   "version": "3.6.5"
  }
 },
 "nbformat": 4,
 "nbformat_minor": 2
}

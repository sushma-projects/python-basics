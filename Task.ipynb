{
 "cells": [
  {
   "cell_type": "code",
   "execution_count": 51,
   "metadata": {},
   "outputs": [],
   "source": [
    "def file_read(filename):\n",
    "    f = open(filename,'r')\n",
    "    if f.mode=='r':\n",
    "        x = f.read()\n",
    "        print(type(x))\n",
    "        l = eval(x)\n",
    "    return l"
   ]
  },
  {
   "cell_type": "code",
   "execution_count": 54,
   "metadata": {},
   "outputs": [
    {
     "data": {
      "text/plain": [
       "[{'student_id': 4420,\n",
       "  'round__round_name': 'Written Test',\n",
       "  'status': 'N',\n",
       "  'placement_id': 1},\n",
       " {'student_id': 4420,\n",
       "  'round__round_name': 'Written Test',\n",
       "  'status': 'Y',\n",
       "  'placement_id': 2},\n",
       " {'student_id': 4420,\n",
       "  'round__round_name': 'GD',\n",
       "  'status': 'N',\n",
       "  'placement_id': 1},\n",
       " {'student_id': 4420,\n",
       "  'round__round_name': 'GD',\n",
       "  'status': 'Y',\n",
       "  'placement_id': 2},\n",
       " {'student_id': 4420,\n",
       "  'round__round_name': 'Technical',\n",
       "  'status': 'N',\n",
       "  'placement_id': 1},\n",
       " {'student_id': 4420,\n",
       "  'round__round_name': 'Technical',\n",
       "  'status': 'Y',\n",
       "  'placement_id': 2},\n",
       " {'student_id': 4420,\n",
       "  'round__round_name': 'HR',\n",
       "  'status': 'Y',\n",
       "  'placement_id': 2}]"
      ]
     },
     "execution_count": 54,
     "metadata": {},
     "output_type": "execute_result"
    }
   ],
   "source": [
    "l2"
   ]
  },
  {
   "cell_type": "code",
   "execution_count": 56,
   "metadata": {},
   "outputs": [
    {
     "name": "stdout",
     "output_type": "stream",
     "text": [
      "<class 'str'>\n",
      "<class 'str'>\n"
     ]
    }
   ],
   "source": [
    "l1 = file_read('placements.txt')\n",
    "l2 = file_read('placements_students.txt')"
   ]
  },
  {
   "cell_type": "code",
   "execution_count": 57,
   "metadata": {},
   "outputs": [
    {
     "data": {
      "text/plain": [
       "list"
      ]
     },
     "execution_count": 57,
     "metadata": {},
     "output_type": "execute_result"
    }
   ],
   "source": [
    "type(l1)"
   ]
  },
  {
   "cell_type": "code",
   "execution_count": 58,
   "metadata": {},
   "outputs": [
    {
     "data": {
      "text/plain": [
       "{'student_id': 4420,\n",
       " 'placement_id': 1,\n",
       " 'placement__company_name': 'promizeit',\n",
       " 'placement__date_of_interview': 'datetime.date(2020, 2, 11)',\n",
       " 'placement__job_description': 'test',\n",
       " 'placement__eligibility_criteria': 'test'}"
      ]
     },
     "execution_count": 58,
     "metadata": {},
     "output_type": "execute_result"
    }
   ],
   "source": [
    "l1[0]"
   ]
  },
  {
   "cell_type": "code",
   "execution_count": 59,
   "metadata": {},
   "outputs": [
    {
     "data": {
      "text/plain": [
       "{'student_id': 4420,\n",
       " 'placement_id': 1,\n",
       " 'placement__company_name': 'promizeit',\n",
       " 'placement__date_of_interview': 'datetime.date(2020, 2, 11)',\n",
       " 'placement__job_description': 'test',\n",
       " 'placement__eligibility_criteria': 'test'}"
      ]
     },
     "execution_count": 59,
     "metadata": {},
     "output_type": "execute_result"
    }
   ],
   "source": [
    "d = {}\n",
    "d = l1[0]\n",
    "d"
   ]
  },
  {
   "cell_type": "code",
   "execution_count": 66,
   "metadata": {},
   "outputs": [
    {
     "data": {
      "text/plain": [
       "[{'round_name': 'Written Test', 'status': 'N'},\n",
       " {'round_name': 'GD', 'status': 'N'},\n",
       " {'round_name': 'Technical', 'status': 'N'}]"
      ]
     },
     "execution_count": 66,
     "metadata": {},
     "output_type": "execute_result"
    }
   ],
   "source": [
    "lis = []\n",
    "for i in l2:\n",
    "    d1 = {}\n",
    "    if i['placement_id']==1:\n",
    "        d1['round_name'] = i['round__round_name']\n",
    "        d1['status'] = i['status']\n",
    "        #print(d1)\n",
    "        lis.append(d1)\n",
    "lis"
   ]
  },
  {
   "cell_type": "code",
   "execution_count": 68,
   "metadata": {},
   "outputs": [
    {
     "data": {
      "text/plain": [
       "{'student_id': 4420,\n",
       " 'placement_id': 1,\n",
       " 'placement__company_name': 'promizeit',\n",
       " 'placement__date_of_interview': 'datetime.date(2020, 2, 11)',\n",
       " 'placement__job_description': 'test',\n",
       " 'placement__eligibility_criteria': 'test',\n",
       " 'status': [{'round_name': 'Written Test', 'status': 'N'},\n",
       "  {'round_name': 'GD', 'status': 'N'},\n",
       "  {'round_name': 'Technical', 'status': 'N'}]}"
      ]
     },
     "execution_count": 68,
     "metadata": {},
     "output_type": "execute_result"
    }
   ],
   "source": [
    "d['status']=lis\n",
    "d"
   ]
  },
  {
   "cell_type": "code",
   "execution_count": 75,
   "metadata": {},
   "outputs": [
    {
     "name": "stdout",
     "output_type": "stream",
     "text": [
      "2\n",
      "12 34\n",
      "12\n",
      "34\n",
      "23 45\n",
      "23\n",
      "45\n",
      "23\n"
     ]
    }
   ],
   "source": [
    "t = int(input())\n",
    "for i in range(t):\n",
    "    ab = input().split()\n",
    "    a = int(ab[0])\n",
    "    print(a)\n",
    "    b = int(ab[1])\n",
    "    print(b)\n",
    "    s = luckyNumber(a,b)"
   ]
  },
  {
   "cell_type": "code",
   "execution_count": 80,
   "metadata": {},
   "outputs": [],
   "source": [
    "def isPrime(n):\n",
    "    if n>1:\n",
    "        for i in range(2,n):\n",
    "            if n%i==0:\n",
    "                #print(\"not prime\")\n",
    "                break\n",
    "        else:\n",
    "            return True"
   ]
  },
  {
   "cell_type": "code",
   "execution_count": 81,
   "metadata": {},
   "outputs": [
    {
     "data": {
      "text/plain": [
       "True"
      ]
     },
     "execution_count": 81,
     "metadata": {},
     "output_type": "execute_result"
    }
   ],
   "source": [
    "isPrime(11)"
   ]
  },
  {
   "cell_type": "code",
   "execution_count": 38,
   "metadata": {},
   "outputs": [],
   "source": [
    "def sum_square(num):\n",
    "    for i in range(num):\n",
    "        square = 0\n",
    "        sum1 = 0\n",
    "        while(num!=0):\n",
    "            rem = num%10\n",
    "            a = rem*rem\n",
    "            sum1 = sum1+rem\n",
    "            square = square+a\n",
    "            num=num//10\n",
    "        return(sum1,square)    "
   ]
  },
  {
   "cell_type": "code",
   "execution_count": 79,
   "metadata": {},
   "outputs": [
    {
     "data": {
      "text/plain": [
       "(8, 40)"
      ]
     },
     "execution_count": 79,
     "metadata": {},
     "output_type": "execute_result"
    }
   ],
   "source": [
    "sum_square(26)"
   ]
  },
  {
   "cell_type": "code",
   "execution_count": 142,
   "metadata": {},
   "outputs": [],
   "source": [
    "def luckyNumbers(n1,n2):\n",
    "    count = 0\n",
    "    for i in range(n1,n2+1):\n",
    "        x,y = sum_square(i)\n",
    "        if isPrime(y)==True:\n",
    "            count += 1\n",
    "    return count"
   ]
  },
  {
   "cell_type": "code",
   "execution_count": 144,
   "metadata": {},
   "outputs": [
    {
     "data": {
      "text/plain": [
       "4"
      ]
     },
     "execution_count": 144,
     "metadata": {},
     "output_type": "execute_result"
    }
   ],
   "source": [
    "luckyNumbers(1,20)"
   ]
  },
  {
   "cell_type": "code",
   "execution_count": 48,
   "metadata": {},
   "outputs": [
    {
     "name": "stdout",
     "output_type": "stream",
     "text": [
      "enter 1 element56\n",
      "['56']\n"
     ]
    }
   ],
   "source": [
    "# Read 4 elements of a list from keyboard\n",
    "l = []\n",
    "l.append(input(\"enter 1 element\"))\n",
    "print(l)"
   ]
  },
  {
   "cell_type": "code",
   "execution_count": 50,
   "metadata": {},
   "outputs": [
    {
     "name": "stdout",
     "output_type": "stream",
     "text": [
      "56\n"
     ]
    }
   ],
   "source": [
    "print(int(l[0]))"
   ]
  },
  {
   "cell_type": "code",
   "execution_count": 52,
   "metadata": {},
   "outputs": [
    {
     "data": {
      "text/plain": [
       "str"
      ]
     },
     "execution_count": 52,
     "metadata": {},
     "output_type": "execute_result"
    }
   ],
   "source": [
    "type(l[0])"
   ]
  },
  {
   "cell_type": "code",
   "execution_count": 90,
   "metadata": {},
   "outputs": [
    {
     "name": "stdout",
     "output_type": "stream",
     "text": [
      "12 23 34 54\n"
     ]
    },
    {
     "data": {
      "text/plain": [
       "[12, 23, 34, 54]"
      ]
     },
     "execution_count": 90,
     "metadata": {},
     "output_type": "execute_result"
    }
   ],
   "source": [
    "li = [int(i) for i in input().split()]\n",
    "li"
   ]
  },
  {
   "cell_type": "code",
   "execution_count": 86,
   "metadata": {},
   "outputs": [
    {
     "name": "stdout",
     "output_type": "stream",
     "text": [
      "12\n",
      "23\n",
      "34\n",
      "56\n"
     ]
    },
    {
     "data": {
      "text/plain": [
       "[12, 23, 34, 56]"
      ]
     },
     "execution_count": 86,
     "metadata": {},
     "output_type": "execute_result"
    }
   ],
   "source": [
    "li = []\n",
    "for i in range(4):\n",
    "    li.append(int(input()))\n",
    "li"
   ]
  },
  {
   "cell_type": "code",
   "execution_count": 87,
   "metadata": {},
   "outputs": [
    {
     "name": "stdout",
     "output_type": "stream",
     "text": [
      "12 23 45\n"
     ]
    },
    {
     "data": {
      "text/plain": [
       "[12, 23, 45]"
      ]
     },
     "execution_count": 87,
     "metadata": {},
     "output_type": "execute_result"
    }
   ],
   "source": [
    "s = input()\n",
    "li = s.split()\n",
    "for i in range(len(li)):\n",
    "    li[i] = int(li[i])\n",
    "li"
   ]
  },
  {
   "cell_type": "code",
   "execution_count": 66,
   "metadata": {},
   "outputs": [
    {
     "name": "stdout",
     "output_type": "stream",
     "text": [
      "32 54 32 43\n"
     ]
    },
    {
     "data": {
      "text/plain": [
       "[32, 54, 32, 43]"
      ]
     },
     "execution_count": 66,
     "metadata": {},
     "output_type": "execute_result"
    }
   ],
   "source": [
    "l = [int(i) for i in input().split()]\n",
    "l"
   ]
  },
  {
   "cell_type": "code",
   "execution_count": 91,
   "metadata": {},
   "outputs": [
    {
     "name": "stdout",
     "output_type": "stream",
     "text": [
      "12 23 43 54\n"
     ]
    },
    {
     "data": {
      "text/plain": [
       "[12, 23, 43, 54]"
      ]
     },
     "execution_count": 91,
     "metadata": {},
     "output_type": "execute_result"
    }
   ],
   "source": [
    "l = list(map(int,input().split()))\n",
    "l"
   ]
  },
  {
   "cell_type": "code",
   "execution_count": 67,
   "metadata": {},
   "outputs": [
    {
     "name": "stdout",
     "output_type": "stream",
     "text": [
      "32 43 21 23\n"
     ]
    },
    {
     "data": {
      "text/plain": [
       "[32, 43, 21, 23]"
      ]
     },
     "execution_count": 67,
     "metadata": {},
     "output_type": "execute_result"
    }
   ],
   "source": [
    "l = list(map(int,input().split()))\n",
    "l"
   ]
  },
  {
   "cell_type": "code",
   "execution_count": 72,
   "metadata": {},
   "outputs": [
    {
     "name": "stdout",
     "output_type": "stream",
     "text": [
      "1 2 3 4\n",
      "2 5 6 7\n",
      "2 4 6 8 \n",
      "8 9 7 6\n"
     ]
    },
    {
     "data": {
      "text/plain": [
       "[[1, 2, 3, 4], [2, 5, 6, 7], [2, 4, 6, 8], [8, 9, 7, 6]]"
      ]
     },
     "execution_count": 72,
     "metadata": {},
     "output_type": "execute_result"
    }
   ],
   "source": [
    "marks = []\n",
    "for i in range(4):\n",
    "    marks.append(list(map(int,input().split())))\n",
    "marks"
   ]
  },
  {
   "cell_type": "code",
   "execution_count": 2,
   "metadata": {},
   "outputs": [
    {
     "name": "stdout",
     "output_type": "stream",
     "text": [
      "2\n",
      "152\n",
      "12 12 12\n",
      "125\n",
      "12 12 12\n",
      "12\n",
      "[['2', 152], ['12 12 12', 125], ['12 12 12', 12]]\n"
     ]
    }
   ],
   "source": [
    "marks = []\n",
    "for i in range(3):\n",
    "    l = []\n",
    "    l.append(input())\n",
    "    l.extend(list(map(int,input().split())))\n",
    "    marks.append(l)\n",
    "print(marks)"
   ]
  },
  {
   "cell_type": "code",
   "execution_count": 4,
   "metadata": {},
   "outputs": [
    {
     "name": "stdout",
     "output_type": "stream",
     "text": [
      "2\n",
      "3\n",
      "4\n"
     ]
    },
    {
     "data": {
      "text/plain": [
       "[[2], [3], [4]]"
      ]
     },
     "execution_count": 4,
     "metadata": {},
     "output_type": "execute_result"
    }
   ],
   "source": [
    "id_marks = []\n",
    "for i in range(3):\n",
    "    id_marks.append([(int(input()))])\n",
    "id_marks"
   ]
  },
  {
   "cell_type": "code",
   "execution_count": null,
   "metadata": {},
   "outputs": [],
   "source": [
    "marks = []\n",
    "for i in range(3):\n",
    "    l = []\n",
    "    l.append(int(input()))\n",
    "    l.extend(list(map(int,input().split())))\n",
    "    marks.append(l)\n",
    "print(marks)"
   ]
  },
  {
   "cell_type": "code",
   "execution_count": 92,
   "metadata": {},
   "outputs": [
    {
     "name": "stdout",
     "output_type": "stream",
     "text": [
      "213\n",
      "12 23 45\n",
      "312\n",
      "12 54 34\n",
      "321\n",
      "12 32 24\n"
     ]
    },
    {
     "data": {
      "text/plain": [
       "[[213, 12, 23, 45], [312, 12, 54, 34], [321, 12, 32, 24]]"
      ]
     },
     "execution_count": 92,
     "metadata": {},
     "output_type": "execute_result"
    }
   ],
   "source": [
    "marks = []\n",
    "for i in range(3):\n",
    "    marks.append([int(input())])\n",
    "    marks[i].extend(list(map(int,input().split())))\n",
    "marks"
   ]
  },
  {
   "cell_type": "code",
   "execution_count": 9,
   "metadata": {},
   "outputs": [
    {
     "data": {
      "text/plain": [
       "3"
      ]
     },
     "execution_count": 9,
     "metadata": {},
     "output_type": "execute_result"
    }
   ],
   "source": [
    "len(marks)"
   ]
  },
  {
   "cell_type": "code",
   "execution_count": 15,
   "metadata": {},
   "outputs": [
    {
     "data": {
      "text/plain": [
       "{213: 6, 312: 9, 564: 15}"
      ]
     },
     "execution_count": 15,
     "metadata": {},
     "output_type": "execute_result"
    }
   ],
   "source": [
    "dict1 = {}\n",
    "for i in marks:\n",
    "    dict1[i[0]]=sum(i[1:])\n",
    "dict1"
   ]
  },
  {
   "cell_type": "code",
   "execution_count": null,
   "metadata": {},
   "outputs": [],
   "source": [
    "(lambda x: sum(i[1:]))"
   ]
  },
  {
   "cell_type": "code",
   "execution_count": 22,
   "metadata": {},
   "outputs": [
    {
     "data": {
      "text/plain": [
       "{213: [6, 1, 3, 2.0], 312: [9, 2, 4, 3.0], 564: [15, 2, 7, 5.0]}"
      ]
     },
     "execution_count": 22,
     "metadata": {},
     "output_type": "execute_result"
    }
   ],
   "source": [
    "d = {}\n",
    "for i in marks:\n",
    "    s = sum(i[1:])\n",
    "    mn = min(i[1:])\n",
    "    ma = max(i[1:])\n",
    "    ag = s/len(i[1:])\n",
    "    d[i[0]]=[s,mn,ma,ag]\n",
    "d"
   ]
  },
  {
   "cell_type": "code",
   "execution_count": 105,
   "metadata": {},
   "outputs": [
    {
     "name": "stdout",
     "output_type": "stream",
     "text": [
      "4\n",
      "16\n"
     ]
    }
   ],
   "source": [
    "n = int(input())\n",
    "#len(n)\n",
    "print(n**2)"
   ]
  },
  {
   "cell_type": "code",
   "execution_count": 129,
   "metadata": {},
   "outputs": [
    {
     "data": {
      "text/plain": [
       "100"
      ]
     },
     "execution_count": 129,
     "metadata": {},
     "output_type": "execute_result"
    }
   ],
   "source": [
    "import numpy as np\n",
    "a = np.arange(0,50,0.5)\n",
    "len(a)"
   ]
  },
  {
   "cell_type": "code",
   "execution_count": 121,
   "metadata": {},
   "outputs": [
    {
     "name": "stdout",
     "output_type": "stream",
     "text": [
      "5\n",
      "Weird\n"
     ]
    }
   ],
   "source": [
    "if __name__ == '__main__':\n",
    "    n = int(input().strip())\n",
    "    if n%2==0 and (n in range(2,6) or n>20):\n",
    "        print(\"Not Weird\")\n",
    "    else:\n",
    "        print(\"Weird\")"
   ]
  },
  {
   "cell_type": "code",
   "execution_count": null,
   "metadata": {},
   "outputs": [],
   "source": [
    "def is_leap(year):\n",
    "    \n",
    "    if (year%4)==0 and (year%400==0 or year%100!=0):\n",
    "        leap = True\n",
    "    # Write your logic here\n",
    "    else:\n",
    "        leap = False\n",
    "    return leap\n",
    "\n",
    "year = int(input())\n",
    "print(is_leap(year))"
   ]
  },
  {
   "cell_type": "code",
   "execution_count": 154,
   "metadata": {},
   "outputs": [],
   "source": [
    "def fib(n):\n",
    "    a,b = 0,1\n",
    "    while a<n:\n",
    "        print(a,end=\"\")\n",
    "        a,b = b, a+b"
   ]
  },
  {
   "cell_type": "code",
   "execution_count": 155,
   "metadata": {},
   "outputs": [
    {
     "name": "stdout",
     "output_type": "stream",
     "text": [
      "01123\n"
     ]
    }
   ],
   "source": [
    "fib(5)"
   ]
  },
  {
   "cell_type": "code",
   "execution_count": 156,
   "metadata": {},
   "outputs": [
    {
     "data": {
      "text/plain": [
       "[(0, 'banana'), (1, 'orange'), (2, 'apple')]"
      ]
     },
     "execution_count": 156,
     "metadata": {},
     "output_type": "execute_result"
    }
   ],
   "source": [
    "fruits = ['banana','orange','apple']\n",
    "list(enumerate(fruits))"
   ]
  },
  {
   "cell_type": "code",
   "execution_count": null,
   "metadata": {},
   "outputs": [],
   "source": []
  }
 ],
 "metadata": {
  "kernelspec": {
   "display_name": "Python 3",
   "language": "python",
   "name": "python3"
  },
  "language_info": {
   "codemirror_mode": {
    "name": "ipython",
    "version": 3
   },
   "file_extension": ".py",
   "mimetype": "text/x-python",
   "name": "python",
   "nbconvert_exporter": "python",
   "pygments_lexer": "ipython3",
   "version": "3.6.5"
  }
 },
 "nbformat": 4,
 "nbformat_minor": 2
}

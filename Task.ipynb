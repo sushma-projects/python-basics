{
 "cells": [
  {
   "cell_type": "code",
   "execution_count": 275,
   "metadata": {},
   "outputs": [],
   "source": [
    "import datetime\n",
    "def file_read(filename):\n",
    "    f = open(filename,'r')\n",
    "    if f.mode=='r':\n",
    "        x = f.read()\n",
    "        l = eval(x)\n",
    "    return l"
   ]
  },
  {
   "cell_type": "code",
   "execution_count": 276,
   "metadata": {},
   "outputs": [],
   "source": [
    "list1 = file_read('placements.txt')\n",
    "list2 = file_read('placements_students.txt')"
   ]
  },
  {
   "cell_type": "code",
   "execution_count": 277,
   "metadata": {},
   "outputs": [
    {
     "name": "stdout",
     "output_type": "stream",
     "text": [
      "[{'student_id': 4420, 'placement_id': 1, 'placement__company_name': 'promizeit', 'placement__date_of_interview': 'datetime.date(2020, 2, 11)', 'placement__job_description': 'test', 'placement__eligibility_criteria': 'test'}, {'student_id': 4420, 'placement_id': 2, 'placement__company_name': 'Test 2', 'placement__date_of_interview': 'datetime.date(2020, 2, 27)', 'placement__job_description': 'Test2', 'placement__eligibility_criteria': 'Test2'}]\n"
     ]
    }
   ],
   "source": [
    "print(list1)"
   ]
  },
  {
   "cell_type": "code",
   "execution_count": 278,
   "metadata": {},
   "outputs": [
    {
     "name": "stdout",
     "output_type": "stream",
     "text": [
      "[{'student_id': 4420, 'round__round_name': 'Written Test', 'status': 'N', 'placement_id': 1}, {'student_id': 4420, 'round__round_name': 'Written Test', 'status': 'Y', 'placement_id': 2}, {'student_id': 4420, 'round__round_name': 'GD', 'status': 'N', 'placement_id': 1}, {'student_id': 4420, 'round__round_name': 'GD', 'status': 'Y', 'placement_id': 2}, {'student_id': 4420, 'round__round_name': 'Technical', 'status': 'N', 'placement_id': 1}, {'student_id': 4420, 'round__round_name': 'Technical', 'status': 'Y', 'placement_id': 2}, {'student_id': 4420, 'round__round_name': 'HR', 'status': 'Y', 'placement_id': 2}]\n"
     ]
    }
   ],
   "source": [
    "print(list2)"
   ]
  },
  {
   "cell_type": "code",
   "execution_count": 279,
   "metadata": {},
   "outputs": [
    {
     "data": {
      "text/plain": [
       "list"
      ]
     },
     "execution_count": 279,
     "metadata": {},
     "output_type": "execute_result"
    }
   ],
   "source": [
    "type(list1)"
   ]
  },
  {
   "cell_type": "code",
   "execution_count": 280,
   "metadata": {},
   "outputs": [
    {
     "name": "stdout",
     "output_type": "stream",
     "text": [
      "1\n",
      "2\n"
     ]
    }
   ],
   "source": [
    "for i in list1:\n",
    "    print(i['placement_id'])"
   ]
  },
  {
   "cell_type": "code",
   "execution_count": 281,
   "metadata": {},
   "outputs": [],
   "source": [
    "dict1 = {}\n",
    "dict1 = list1[0]"
   ]
  },
  {
   "cell_type": "code",
   "execution_count": 282,
   "metadata": {},
   "outputs": [
    {
     "data": {
      "text/plain": [
       "{'student_id': 4420,\n",
       " 'placement_id': 1,\n",
       " 'placement__company_name': 'promizeit',\n",
       " 'placement__date_of_interview': 'datetime.date(2020, 2, 11)',\n",
       " 'placement__job_description': 'test',\n",
       " 'placement__eligibility_criteria': 'test'}"
      ]
     },
     "execution_count": 282,
     "metadata": {},
     "output_type": "execute_result"
    }
   ],
   "source": [
    "dict1"
   ]
  },
  {
   "cell_type": "code",
   "execution_count": 283,
   "metadata": {},
   "outputs": [],
   "source": [
    "dictionary = {}\n",
    "for i in list2:\n",
    "    dictionary['round_n']=i['round__round_name']"
   ]
  },
  {
   "cell_type": "code",
   "execution_count": 284,
   "metadata": {},
   "outputs": [
    {
     "data": {
      "text/plain": [
       "{'round_n': 'HR'}"
      ]
     },
     "execution_count": 284,
     "metadata": {},
     "output_type": "execute_result"
    }
   ],
   "source": [
    "dictionary"
   ]
  },
  {
   "cell_type": "code",
   "execution_count": 285,
   "metadata": {},
   "outputs": [
    {
     "name": "stdout",
     "output_type": "stream",
     "text": [
      "{'round_name': 'Written Test'}\n",
      "{'round_name': 'GD'}\n",
      "{'round_name': 'Technical'}\n"
     ]
    }
   ],
   "source": [
    "f = []\n",
    "for i in list2:\n",
    "    dic = {}\n",
    "    if i['placement_id']==1:\n",
    "        dic['round_name']=i['round__round_name']\n",
    "        print(dic)\n",
    "        dic['status']=i['status']\n",
    "        f.append(dic)"
   ]
  },
  {
   "cell_type": "code",
   "execution_count": 231,
   "metadata": {},
   "outputs": [
    {
     "name": "stdout",
     "output_type": "stream",
     "text": [
      "[{'round_name': 'Written Test', 'status': 'N'}, {'round_name': 'GD', 'status': 'N'}, {'round_name': 'Technical', 'status': 'N'}]\n"
     ]
    }
   ],
   "source": [
    "print(f)"
   ]
  },
  {
   "cell_type": "code",
   "execution_count": 234,
   "metadata": {},
   "outputs": [],
   "source": [
    "dict1['result']=f"
   ]
  },
  {
   "cell_type": "code",
   "execution_count": 235,
   "metadata": {},
   "outputs": [
    {
     "data": {
      "text/plain": [
       "{'student_id': 4420,\n",
       " 'placement_id': 1,\n",
       " 'placement__company_name': 'promizeit',\n",
       " 'placement__date_of_interview': 'datetime.date(2020, 2, 11)',\n",
       " 'placement__job_description': 'test',\n",
       " 'placement__eligibility_criteria': 'test',\n",
       " 'result': [{'round_name': 'Written Test', 'status': 'N'},\n",
       "  {'round_name': 'GD', 'status': 'N'},\n",
       "  {'round_name': 'Technical', 'status': 'N'}]}"
      ]
     },
     "execution_count": 235,
     "metadata": {},
     "output_type": "execute_result"
    }
   ],
   "source": [
    "dict1"
   ]
  },
  {
   "cell_type": "code",
   "execution_count": 244,
   "metadata": {},
   "outputs": [],
   "source": [
    "def read_file(filename):\n",
    "    f = open(filename,'r')\n",
    "    if f.mode=='r':\n",
    "        x = f.read()\n",
    "        l = eval(x)\n",
    "    return l"
   ]
  },
  {
   "cell_type": "code",
   "execution_count": 309,
   "metadata": {},
   "outputs": [],
   "source": [
    "l1 = read_file('placements.txt')\n",
    "l2 = read_file('placements_students.txt')"
   ]
  },
  {
   "cell_type": "code",
   "execution_count": 310,
   "metadata": {},
   "outputs": [
    {
     "data": {
      "text/plain": [
       "list"
      ]
     },
     "execution_count": 310,
     "metadata": {},
     "output_type": "execute_result"
    }
   ],
   "source": [
    "type(l1)"
   ]
  },
  {
   "cell_type": "code",
   "execution_count": 311,
   "metadata": {},
   "outputs": [
    {
     "name": "stdout",
     "output_type": "stream",
     "text": [
      "[{'student_id': 4420, 'placement_id': 1, 'placement__company_name': 'promizeit', 'placement__date_of_interview': 'datetime.date(2020, 2, 11)', 'placement__job_description': 'test', 'placement__eligibility_criteria': 'test'}, {'student_id': 4420, 'placement_id': 2, 'placement__company_name': 'Test 2', 'placement__date_of_interview': 'datetime.date(2020, 2, 27)', 'placement__job_description': 'Test2', 'placement__eligibility_criteria': 'Test2'}]\n"
     ]
    }
   ],
   "source": [
    "print(l1)"
   ]
  },
  {
   "cell_type": "code",
   "execution_count": 312,
   "metadata": {},
   "outputs": [
    {
     "name": "stdout",
     "output_type": "stream",
     "text": [
      "[{'student_id': 4420, 'round__round_name': 'Written Test', 'status': 'N', 'placement_id': 1}, {'student_id': 4420, 'round__round_name': 'Written Test', 'status': 'Y', 'placement_id': 2}, {'student_id': 4420, 'round__round_name': 'GD', 'status': 'N', 'placement_id': 1}, {'student_id': 4420, 'round__round_name': 'GD', 'status': 'Y', 'placement_id': 2}, {'student_id': 4420, 'round__round_name': 'Technical', 'status': 'N', 'placement_id': 1}, {'student_id': 4420, 'round__round_name': 'Technical', 'status': 'Y', 'placement_id': 2}, {'student_id': 4420, 'round__round_name': 'HR', 'status': 'Y', 'placement_id': 2}]\n"
     ]
    }
   ],
   "source": [
    "print(l2)"
   ]
  },
  {
   "cell_type": "code",
   "execution_count": 313,
   "metadata": {},
   "outputs": [],
   "source": [
    "dict1 = {}\n",
    "dict1 = l1[0]"
   ]
  },
  {
   "cell_type": "code",
   "execution_count": 314,
   "metadata": {},
   "outputs": [
    {
     "name": "stdout",
     "output_type": "stream",
     "text": [
      "{'student_id': 4420, 'placement_id': 1, 'placement__company_name': 'promizeit', 'placement__date_of_interview': 'datetime.date(2020, 2, 11)', 'placement__job_description': 'test', 'placement__eligibility_criteria': 'test'}\n"
     ]
    }
   ],
   "source": [
    "print(dict1)"
   ]
  },
  {
   "cell_type": "code",
   "execution_count": 315,
   "metadata": {},
   "outputs": [
    {
     "data": {
      "text/plain": [
       "dict"
      ]
     },
     "execution_count": 315,
     "metadata": {},
     "output_type": "execute_result"
    }
   ],
   "source": [
    "type(dict1)"
   ]
  },
  {
   "cell_type": "code",
   "execution_count": 316,
   "metadata": {},
   "outputs": [
    {
     "name": "stdout",
     "output_type": "stream",
     "text": [
      "{'round_name': 'Written Test'}\n",
      "{'round_name': 'Written Test', 'status': 'N'}\n",
      "{'round_name': 'GD'}\n",
      "{'round_name': 'GD', 'status': 'N'}\n",
      "{'round_name': 'Technical'}\n",
      "{'round_name': 'Technical', 'status': 'N'}\n"
     ]
    }
   ],
   "source": [
    "li = []\n",
    "for i in l2:\n",
    "    dict12 = {}\n",
    "    if i['placement_id']==1:\n",
    "        dict12['round_name']=i['round__round_name']\n",
    "        print(dict12)\n",
    "        dict12['status']=i['status']\n",
    "        print(dict12)\n",
    "        li.append(dict12)"
   ]
  },
  {
   "cell_type": "code",
   "execution_count": 317,
   "metadata": {},
   "outputs": [
    {
     "name": "stdout",
     "output_type": "stream",
     "text": [
      "[{'round_name': 'Written Test', 'status': 'N'}, {'round_name': 'GD', 'status': 'N'}, {'round_name': 'Technical', 'status': 'N'}]\n"
     ]
    }
   ],
   "source": [
    "print(li)"
   ]
  },
  {
   "cell_type": "code",
   "execution_count": 318,
   "metadata": {},
   "outputs": [],
   "source": [
    "dict1['result'] = li"
   ]
  },
  {
   "cell_type": "code",
   "execution_count": 319,
   "metadata": {},
   "outputs": [
    {
     "name": "stdout",
     "output_type": "stream",
     "text": [
      "{'student_id': 4420, 'placement_id': 1, 'placement__company_name': 'promizeit', 'placement__date_of_interview': 'datetime.date(2020, 2, 11)', 'placement__job_description': 'test', 'placement__eligibility_criteria': 'test', 'result': [{'round_name': 'Written Test', 'status': 'N'}, {'round_name': 'GD', 'status': 'N'}, {'round_name': 'Technical', 'status': 'N'}]}\n"
     ]
    }
   ],
   "source": [
    "print(dict1)"
   ]
  },
  {
   "cell_type": "code",
   "execution_count": 8,
   "metadata": {},
   "outputs": [
    {
     "name": "stdout",
     "output_type": "stream",
     "text": [
      "1\n"
     ]
    }
   ],
   "source": [
    "def luckyNmuber(a,b):\n",
    "    s = (a**)\n",
    "    return s\n",
    "luckyNumber(1,20)"
   ]
  },
  {
   "cell_type": "code",
   "execution_count": 13,
   "metadata": {},
   "outputs": [
    {
     "name": "stdout",
     "output_type": "stream",
     "text": [
      "23 24\n",
      "23 24\n"
     ]
    }
   ],
   "source": [
    "ab = input().split()\n",
    "a = int(ab[0])\n",
    "b = int(ab[1])\n",
    "print(a,b)"
   ]
  },
  {
   "cell_type": "code",
   "execution_count": null,
   "metadata": {},
   "outputs": [],
   "source": [
    "#def luckyNumber(a,b):\n",
    "#   sum_squares = (a*a + b*b)\n",
    " #   print(a)\n",
    "    \n",
    "t = int(input())\n",
    "for i in range(t):\n",
    "    ab = input().split()\n",
    "    print(ab)\n",
    "    a = int(ab[0])\n",
    "    b = int(ab[1])\n",
    "    print(a)\n",
    "    print(b)\n",
    "    #s = luckyNumber(a,b)"
   ]
  },
  {
   "cell_type": "code",
   "execution_count": 19,
   "metadata": {},
   "outputs": [
    {
     "ename": "IndentationError",
     "evalue": "expected an indented block (<ipython-input-19-c5685915fb76>, line 13)",
     "output_type": "error",
     "traceback": [
      "\u001b[1;36m  File \u001b[1;32m\"<ipython-input-19-c5685915fb76>\"\u001b[1;36m, line \u001b[1;32m13\u001b[0m\n\u001b[1;33m    return s\u001b[0m\n\u001b[1;37m    ^\u001b[0m\n\u001b[1;31mIndentationError\u001b[0m\u001b[1;31m:\u001b[0m expected an indented block\n"
     ]
    }
   ],
   "source": [
    "def luckyNumbers(a, b):\n",
    "    #\n",
    "    # Write your code here.\n",
    "    s = a*a + b*b\n",
    "    #print(s)\n",
    "    if s>1:\n",
    "        for i in range(2,s):\n",
    "            if s%i==0:\n",
    "                #print(\"not lucky number\")\n",
    "                break\n",
    "            else:\n",
    "                #print(\"lucky number\")\n",
    "    return s         \n",
    "\n",
    "t = int(input())\n",
    "for t_itr in range(t):\n",
    "    ab = input().split()\n",
    "    a = int(ab[0])\n",
    "    b = int(ab[1])\n",
    "    s = luckyNumbers(a, b)"
   ]
  },
  {
   "cell_type": "code",
   "execution_count": 36,
   "metadata": {},
   "outputs": [],
   "source": [
    "def isPrime(n):\n",
    "    if n>1:\n",
    "        for i in range(2,n):\n",
    "            if n%i==0:\n",
    "                #print(\"not prime\")\n",
    "                break\n",
    "        else:\n",
    "            return 1"
   ]
  },
  {
   "cell_type": "code",
   "execution_count": 37,
   "metadata": {},
   "outputs": [
    {
     "data": {
      "text/plain": [
       "1"
      ]
     },
     "execution_count": 37,
     "metadata": {},
     "output_type": "execute_result"
    }
   ],
   "source": [
    "isPrime(11)"
   ]
  },
  {
   "cell_type": "code",
   "execution_count": 38,
   "metadata": {},
   "outputs": [],
   "source": [
    "def sum_square(num):\n",
    "    for i in range(num):\n",
    "        square = 0\n",
    "        sum1 = 0\n",
    "        while(num!=0):\n",
    "            rem = num%10\n",
    "            a = rem*rem\n",
    "            sum1 = sum1+rem\n",
    "            square = square+a\n",
    "            num=num//10\n",
    "        return(sum1,square)    "
   ]
  },
  {
   "cell_type": "code",
   "execution_count": 39,
   "metadata": {},
   "outputs": [
    {
     "data": {
      "text/plain": [
       "(5, 13)"
      ]
     },
     "execution_count": 39,
     "metadata": {},
     "output_type": "execute_result"
    }
   ],
   "source": [
    "sum_square(23)"
   ]
  },
  {
   "cell_type": "code",
   "execution_count": 40,
   "metadata": {},
   "outputs": [],
   "source": [
    "def luckyNumbers(n1,n2):\n",
    "    count = 0\n",
    "    for i in range(n1,n2+1):\n",
    "        x,y = sum_square(i)\n",
    "        if isPrime(x)==1:\n",
    "            if isPrime(y)==1:\n",
    "                count += 1\n",
    "    return count\n",
    "                "
   ]
  },
  {
   "cell_type": "code",
   "execution_count": 41,
   "metadata": {},
   "outputs": [
    {
     "data": {
      "text/plain": [
       "4"
      ]
     },
     "execution_count": 41,
     "metadata": {},
     "output_type": "execute_result"
    }
   ],
   "source": [
    "luckyNumbers(1,20)"
   ]
  },
  {
   "cell_type": "code",
   "execution_count": null,
   "metadata": {},
   "outputs": [],
   "source": []
  }
 ],
 "metadata": {
  "kernelspec": {
   "display_name": "Python 3",
   "language": "python",
   "name": "python3"
  },
  "language_info": {
   "codemirror_mode": {
    "name": "ipython",
    "version": 3
   },
   "file_extension": ".py",
   "mimetype": "text/x-python",
   "name": "python",
   "nbconvert_exporter": "python",
   "pygments_lexer": "ipython3",
   "version": "3.6.5"
  }
 },
 "nbformat": 4,
 "nbformat_minor": 2
}
